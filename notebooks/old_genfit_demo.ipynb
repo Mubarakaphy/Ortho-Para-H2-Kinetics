{
 "cells": [
  {
   "cell_type": "code",
   "execution_count": null,
   "metadata": {},
   "outputs": [],
   "source": [
    "import numpy as np\n",
    "import matplotlib.pyplot as plt\n",
    "import os\n",
    "\n",
    "t_s, f_obs = np.loadtxt(\"data/relax_synth.csv\", delimiter=\",\", skiprows=1, unpack=True)\n",
    "k_hat, k_std = fit_k(t_s, f_obs, T=T, f0=f0, k0=1e-3)\n",
    "\n",
    "print(f\"k_hat = {k_hat:.3e} s^-1  (± {k_std:.1e})\")\n",
    "\n",
    "# Visual check\n",
    "t_dense = np.linspace(t_s.min(), t_s.max(), 400)\n",
    "f_fit = feq + (f0 - feq) * np.exp(-k_hat * t_dense)\n",
    "\n",
    "os.makedirs(\"figs\", exist_ok=True)\n",
    "plt.figure()\n",
    "plt.plot(t_s, f_obs, \"o\", label=\"data\")\n",
    "plt.plot(t_dense, f_fit, \"-\", label=f\"fit (k={k_hat:.2e} s$^{{-1}}$)\")\n",
    "plt.xlabel(\"t (s)\"); plt.ylabel(\"f_ortho\"); plt.grid(True); plt.legend(); plt.tight_layout()\n",
    "plt.savefig(\"figs/fitk_demo.png\", dpi=200)\n",
    "plt.show()\n",
    "\n",
    "print(\"Saved figs/fitk_demo.png\")\n"
   ]
  }
 ],
 "metadata": {
  "kernelspec": {
   "display_name": "Python 3",
   "language": "python",
   "name": "python3"
  },
  "language_info": {
   "name": "python",
   "version": "3.13"
  }
 },
 "nbformat": 4,
 "nbformat_minor": 5
}
