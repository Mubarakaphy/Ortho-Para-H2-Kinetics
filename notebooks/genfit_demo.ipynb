%matplotlib inline
import os, sys, numpy as np, matplotlib.pyplot as plt

# so the notebook can import your package without installing
sys.path.insert(0, os.path.join(os.getcwd(), "src"))

from ortho_para.physics import f_ortho_eq
from ortho_para.infer import fit_k  # if this fails, re-run the “add infer.py” step

T = 20.0
k_true = 1e-3
f0 = 0.75

t = np.linspace(0, 3600, 60)  # s
feq = f_ortho_eq(T)
f = feq + (f0 - feq) * np.exp(-k_true * t)

os.makedirs("data", exist_ok=True)
np.savetxt("data/relax_synth.csv", np.c_[t, f], delimiter=",", header="t_s,f", comments="")
print("Wrote data/relax_synth.csv")

t_s, f_obs = np.loadtxt("data/relax_synth.csv", delimiter=",", skiprows=1, unpack=True)
k_hat, k_std = fit_k(t_s, f_obs, T=T, f0=f0, k0=1e-3)

print(f"k_hat = {k_hat:.3e} s^-1  (± {k_std:.1e})")

# Visual check
t_dense = np.linspace(t_s.min(), t_s.max(), 400)
f_fit = feq + (f0 - feq) * np.exp(-k_hat * t_dense)

os.makedirs("figs", exist_ok=True)
plt.figure()
plt.plot(t_s, f_obs, "o", label="data")
plt.plot(t_dense, f_fit, "-", label=f"fit (k={k_hat:.2e} s$^{{-1}}$)")
plt.xlabel("t (s)"); plt.ylabel("f_ortho"); plt.grid(True); plt.legend(); plt.tight_layout()
plt.savefig("figs/fitk_demo.png", dpi=200)
plt.show()

print("Saved figs/fitk_demo.png")
