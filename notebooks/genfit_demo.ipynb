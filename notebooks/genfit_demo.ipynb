{
 "cells": [
  {
   "cell_type": "code",
   "execution_count": null,
   "metadata": {},
   "outputs": [],
   "source": [
    "%matplotlib inline\n",
    "import os, sys, numpy as np, matplotlib.pyplot as plt\n",
    "\n",
    "# so the notebook can import your package without installing\n",
    "sys.path.insert(0, os.path.join(os.getcwd(), \"src\"))\n",
    "\n",
    "from ortho_para.physics import f_ortho_eq\n",
    "from ortho_para.infer import fit_k  # if this fails, re-run the “add infer.py” step\n"
   ]
  },
  {
   "cell_type": "code",
   "execution_count": null,
   "metadata": {},
   "outputs": [],
   "source": [
    "T = 20.0\n",
    "k_true = 1e-3\n",
    "f0 = 0.75\n",
    "\n",
    "t = np.linspace(0, 3600, 60)  # s\n",
    "feq = f_ortho_eq(T)\n",
    "f = feq + (f0 - feq) * np.exp(-k_true * t)\n",
    "\n",
    "os.makedirs(\"data\", exist_ok=True)\n",
    "np.savetxt(\"data/relax_synth.csv\", np.c_[t, f], delimiter=\",\", header=\"t_s,f\", comments=\"\")\n",
    "print(\"Wrote data/relax_synth.csv\")\n"
   ]
  },
  {
   "cell_type": "code",
   "execution_count": null,
   "metadata": {},
   "outputs": [],
   "source": [
    "t_s, f_obs = np.loadtxt(\"data/relax_synth.csv\", delimiter=\",\", skiprows=1, unpack=True)\n",
    "k_hat, k_std = fit_k(t_s, f_obs, T=T, f0=f0, k0=1e-3)\n",
    "\n",
    "print(f\"k_hat = {k_hat:.3e} s^-1  (± {k_std:.1e})\")\n",
    "\n",
    "# Visual check\n",
    "t_dense = np.linspace(t_s.min(), t_s.max(), 400)\n",
    "f_fit = feq + (f0 - feq) * np.exp(-k_hat * t_dense)\n",
    "\n",
    "os.makedirs(\"figs\", exist_ok=True)\n",
    "plt.figure()\n",
    "plt.plot(t_s, f_obs, \"o\", label=\"data\")\n",
    "plt.plot(t_dense, f_fit, \"-\", label=f\"fit (k={k_hat:.2e} s${{^{-1}}}$)\")\n",
    "plt.xlabel(\"t (s)\"); plt.ylabel(\"f_ortho\"); plt.grid(True); plt.legend(); plt.tight_layout()\n",
    "plt.savefig(\"figs/fitk_demo.png\", dpi=200)\n",
    "plt.show()\n",
    "\n",
    "print(\"Saved figs/fitk_demo.png\")\n"
   ]
  }
 ],
 "metadata": {
  "kernelspec": {
   "display_name": "Python 3",
   "language": "python",
   "name": "python3"
  },
  "language_info": {
   "name": "python",
   "version": "3.13"
  }
 },
 "nbformat": 4,
 "nbformat_minor": 5
}